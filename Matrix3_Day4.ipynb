{
  "nbformat": 4,
  "nbformat_minor": 0,
  "metadata": {
    "colab": {
      "name": "Matrix3_Day4.ipynb",
      "provenance": [],
      "private_outputs": true,
      "collapsed_sections": [],
      "mount_file_id": "1P3J7b6hJH-CAeoQ4lbkZi_3OoBv33kjU",
      "authorship_tag": "ABX9TyP5M83DtO+fqknmoC5c7c3o",
      "include_colab_link": true
    },
    "kernelspec": {
      "name": "python3",
      "display_name": "Python 3"
    },
    "accelerator": "GPU"
  },
  "cells": [
    {
      "cell_type": "markdown",
      "metadata": {
        "id": "view-in-github",
        "colab_type": "text"
      },
      "source": [
        "<a href=\"https://colab.research.google.com/github/eb-art/DW_road_sign/blob/master/Matrix3_Day4.ipynb\" target=\"_parent\"><img src=\"https://colab.research.google.com/assets/colab-badge.svg\" alt=\"Open In Colab\"/></a>"
      ]
    },
    {
      "cell_type": "code",
      "metadata": {
        "id": "ufAjJsTZblZW",
        "colab_type": "code",
        "colab": {}
      },
      "source": [
        "cd '/content/drive/My Drive/Colab Notebooks/matrix/matrix_3/DW_road_sign'"
      ],
      "execution_count": 0,
      "outputs": []
    },
    {
      "cell_type": "code",
      "metadata": {
        "id": "xK0Kzt1PdSrI",
        "colab_type": "code",
        "colab": {}
      },
      "source": [
        "import pandas as pd\n",
        "import numpy as np\n",
        "\n",
        "import os\n",
        "import datetime\n",
        "import matplotlib.pyplot as plt\n",
        "from skimage import color, exposure\n",
        "\n",
        "from sklearn.metrics import accuracy_score\n",
        "\n",
        "#import tensorflow as tf\n",
        "#from tensorflow.keras.models import Sequential\n",
        "#from tensorflow.keras.layers import Conv2D, MaxPool2D, Dense, Flatten, Dropout\n",
        "#from tensorflow.keras.utils import to_categorical\n",
        "\n",
        "# try:\n",
        "#   # %tensorflow_version only exists in Colab.\n",
        "#   %tensorflow_version 2.x\n",
        "# except Exception:\n",
        "#   pass\n",
        "\n",
        "import tensorflow as tf\n",
        "from tensorflow.keras.models import Sequential\n",
        "from tensorflow.keras.layers import Conv2D, MaxPool2D, Dense, Flatten, Dropout\n",
        "from tensorflow.keras.utils import to_categorical\n",
        "# Load the TensorBoard notebook extension\n",
        "%load_ext tensorboard"
      ],
      "execution_count": 0,
      "outputs": []
    },
    {
      "cell_type": "code",
      "metadata": {
        "id": "EkZKvTYydVJ_",
        "colab_type": "code",
        "colab": {}
      },
      "source": [
        "train = pd.read_pickle('data/train.p')\n",
        "test = pd.read_pickle('data/test.p')\n",
        "\n",
        "X_train, y_train = train['features'], train['labels']\n",
        "X_train.shape, y_train.shape\n",
        "\n",
        "X_test, y_test = test['features'], test['labels']\n",
        "X_test.shape, y_test.shape"
      ],
      "execution_count": 0,
      "outputs": []
    },
    {
      "cell_type": "code",
      "metadata": {
        "id": "XEgeATI_fx2R",
        "colab_type": "code",
        "colab": {}
      },
      "source": [
        "df = pd.read_csv('data/dw_signnames.csv')\n",
        "labels_dict = df.to_dict()['b']"
      ],
      "execution_count": 0,
      "outputs": []
    },
    {
      "cell_type": "code",
      "metadata": {
        "id": "_lkuFmxCdgC3",
        "colab_type": "code",
        "colab": {}
      },
      "source": [
        "if y_train.ndim == 1: y_train = to_categorical(y_train)\n",
        "if y_test.ndim == 1: y_test = to_categorical(y_test)\n",
        "\n",
        "input_shape = X_train.shape[1:]\n",
        "num_classes = y_train.shape[1]"
      ],
      "execution_count": 0,
      "outputs": []
    },
    {
      "cell_type": "code",
      "metadata": {
        "id": "rBrwK1gZdlox",
        "colab_type": "code",
        "colab": {}
      },
      "source": [
        "def get_cnn_v1(input_shape, num_classes):\n",
        "  return Sequential([\n",
        "  Conv2D(filters=64, kernel_size=(3,3), activation='relu', input_shape=input_shape),\n",
        "  Flatten(),\n",
        "  Dense(num_classes, activation='softmax')                    \n",
        "])\n",
        "  \n",
        "def get_cnn_v2(input_shape, num_classes):\n",
        "  return Sequential([\n",
        "  Conv2D(filters=32, kernel_size=(3,3), activation='relu', input_shape=input_shape),\n",
        "  MaxPool2D(),\n",
        "  Dropout(0.5),\n",
        "  \n",
        "  Conv2D(filters=64, kernel_size=(3,3), activation='relu'),\n",
        "  MaxPool2D(),\n",
        "  Dropout(0.5),\n",
        "\n",
        "  Flatten(),\n",
        "\n",
        "  Dense(1024, activation='relu'),\n",
        "  Dropout(0.5),\n",
        "\n",
        "  Dense(num_classes, activation='softmax')                    \n",
        "])\n",
        "  \n",
        "def train_model_param(model, X_train, y_train, params_fit={}):\n",
        "  model.compile(loss='categorical_crossentropy', \n",
        "              optimizer = 'Adam',\n",
        "              metrics=['accuracy'])\n",
        "  \n",
        "  log_dir = \"logs/fit/\" + datetime.datetime.now().strftime(\"%Y%m%d-%H%M%S\")\n",
        "\n",
        "  #logdir = os.path.join(\"logs\", datetime.datetime.now().strftime(\"%Y%m%d-%H%M%S\"))\n",
        "  tensorboard_callback = tf.keras.callbacks.TensorBoard(log_dir=log_dir, histogram_freq=1)\n",
        "  #tensorboard_callback = tf.keras.callbacks.TensorBoard(logdir,histogram_freq=1)\n",
        "   \n",
        "  model.fit(\n",
        "      X_train, y_train,\n",
        "      batch_size = params_fit.get('batch_size', 128),\n",
        "      epochs = params_fit.get('epochs', 5),\n",
        "      verbose = params_fit.get('verbose', 1),\n",
        "      validation_data = params_fit.get('validation_data', (X_train, y_train)),\n",
        "      callbacks = [tensorboard_callback]\n",
        "  )\n",
        "  return model\n"
      ],
      "execution_count": 0,
      "outputs": []
    },
    {
      "cell_type": "code",
      "metadata": {
        "id": "sZOebzlAdwDB",
        "colab_type": "code",
        "colab": {}
      },
      "source": [
        "# get_cnn_v2(input_shape, num_classes).summary()  \n",
        "#params_fit = {'epochs': 25}\n",
        "model = get_cnn_v1(input_shape, num_classes)\n",
        "model_trained = train_model_param(model, X_train, y_train)\n",
        "#logdir\n",
        "%tensorboard --logdir logs/fit"
      ],
      "execution_count": 0,
      "outputs": []
    },
    {
      "cell_type": "code",
      "metadata": {
        "id": "y1c3vH9Xfl2S",
        "colab_type": "code",
        "colab": {}
      },
      "source": [
        "plt.imshow(X_test[400])"
      ],
      "execution_count": 0,
      "outputs": []
    },
    {
      "cell_type": "code",
      "metadata": {
        "id": "7XVysf6negNV",
        "colab_type": "code",
        "colab": {}
      },
      "source": [
        "y_pred_prob = model_trained.predict(X_test)\n",
        "y_pred_prob[400]"
      ],
      "execution_count": 0,
      "outputs": []
    },
    {
      "cell_type": "code",
      "metadata": {
        "id": "8RzwN5YgfS7x",
        "colab_type": "code",
        "colab": {}
      },
      "source": [
        "labels_dict[ np.argmax(y_pred_prob[400])]"
      ],
      "execution_count": 0,
      "outputs": []
    },
    {
      "cell_type": "code",
      "metadata": {
        "id": "8lGTsfLQixjn",
        "colab_type": "code",
        "colab": {}
      },
      "source": [
        "#Suma powinna być bliska 1, ale jedna klasa ma przewagę\n",
        "np.sum([1.5767952e-04, 9.9849033e-01, 4.9064082e-14, 1.2105372e-12,\n",
        "       1.3517361e-03, 1.6508359e-07, 6.1247123e-23, 2.0586473e-12,\n",
        "       7.2217652e-24, 2.8086266e-15, 3.5524616e-19, 8.6534007e-20,\n",
        "       1.3037522e-24, 1.1216663e-21, 4.1743947e-24, 1.4077906e-23,\n",
        "       2.0241870e-14, 6.6981340e-29, 8.4766314e-16, 1.8029775e-37,\n",
        "       9.8711307e-17, 1.1187249e-16, 2.3190204e-29, 1.6348336e-33,\n",
        "       1.3865917e-34, 1.8569403e-31, 3.3224795e-20, 0.0000000e+00,\n",
        "       3.3444607e-23, 1.6897733e-20, 0.0000000e+00, 1.4937674e-24,\n",
        "       6.8068947e-34, 0.0000000e+00, 0.0000000e+00, 2.7614104e-33,\n",
        "       0.0000000e+00, 2.0642238e-37, 4.5392048e-31, 0.0000000e+00,\n",
        "       1.6168093e-35, 1.1680189e-27, 4.6438755e-22])"
      ],
      "execution_count": 0,
      "outputs": []
    },
    {
      "cell_type": "code",
      "metadata": {
        "id": "Rgp6nrcwjDhS",
        "colab_type": "code",
        "colab": {}
      },
      "source": [
        "plt.bar(range(43), y_pred_prob[400], log=True)\n",
        "# w liniowej mamy jeden bin dla tej klasy i niewidoczne pozostałe"
      ],
      "execution_count": 0,
      "outputs": []
    },
    {
      "cell_type": "code",
      "metadata": {
        "id": "xY_jfCnCji-H",
        "colab_type": "code",
        "colab": {}
      },
      "source": [
        "# model_trained - aby nie myliło się z funkcja trenującą model\n",
        "def predict(model_trained, X_test, y_test, scoring = accuracy_score):\n",
        "  \n",
        "  y_pred_prob = model_trained.predict(X_test)\n",
        "  y_pred = np.argmax(y_pred_prob, axis = 1) #szuka wiersz po wierszu\n",
        "\n",
        "  y_test_norm = np.argmax(y_test, axis = 1)\n",
        "\n",
        "  return scoring(y_test_norm, y_pred) #accuracy_score(y_test_norm, y_pred)"
      ],
      "execution_count": 0,
      "outputs": []
    },
    {
      "cell_type": "code",
      "metadata": {
        "id": "Y4KaZju3lZAZ",
        "colab_type": "code",
        "colab": {}
      },
      "source": [
        "predict(model_trained, X_test, y_test)"
      ],
      "execution_count": 0,
      "outputs": []
    },
    {
      "cell_type": "code",
      "metadata": {
        "id": "XjxU4-FgluNI",
        "colab_type": "code",
        "colab": {}
      },
      "source": [
        "# architecture engineering\n",
        "\n",
        "def get_cnn_v3(input_shape, num_classes):\n",
        "  return Sequential([\n",
        "  Conv2D(filters=32, kernel_size=(3,3), activation='relu', input_shape=input_shape),\n",
        "  MaxPool2D(),\n",
        "  Dropout(0.3),\n",
        "  \n",
        "  Conv2D(filters=64, kernel_size=(3,3), activation='relu'),\n",
        "  MaxPool2D(),\n",
        "  Dropout(0.3),\n",
        "\n",
        "  Flatten(),\n",
        "\n",
        "  Dense(1024, activation='relu'),\n",
        "  Dropout(0.3),\n",
        "\n",
        "  Dense(num_classes, activation='softmax')                    \n",
        "])\n",
        "  \n",
        "#model = get_cnn_v1(input_shape, num_classes)\n",
        "\n",
        "def train_and_predict(model):\n",
        "  model_trained = train_model_param(model, X_train, y_train) \n",
        "\n",
        "  return predict(model_trained, X_test, y_test) \n",
        "\n",
        "train_and_predict(get_cnn_v3(input_shape, num_classes))"
      ],
      "execution_count": 0,
      "outputs": []
    },
    {
      "cell_type": "code",
      "metadata": {
        "id": "exmmC1vLnhg8",
        "colab_type": "code",
        "colab": {}
      },
      "source": [
        "# architecture engineering\n",
        "\n",
        "def get_cnn_v4(input_shape, num_classes):\n",
        "  return Sequential([\n",
        "  Conv2D(filters=32, kernel_size=(3,3), activation='relu', input_shape=input_shape),\n",
        "  Conv2D(filters=32, kernel_size=(3,3), activation='relu'),\n",
        "  MaxPool2D(),\n",
        "  Dropout(0.3),\n",
        "  \n",
        "  Conv2D(filters=64, kernel_size=(3,3), activation='relu'),\n",
        "  Conv2D(filters=64, kernel_size=(3,3), activation='relu'),\n",
        "  MaxPool2D(),\n",
        "  Dropout(0.3),\n",
        "\n",
        "  Flatten(),\n",
        "\n",
        "  Dense(1024, activation='relu'),\n",
        "  Dropout(0.3),\n",
        "\n",
        "  Dense(num_classes, activation='softmax')                    \n",
        "])\n",
        "\n",
        "train_and_predict(get_cnn_v4(input_shape, num_classes))"
      ],
      "execution_count": 0,
      "outputs": []
    },
    {
      "cell_type": "code",
      "metadata": {
        "id": "a3htoGOToDZQ",
        "colab_type": "code",
        "colab": {}
      },
      "source": [
        "# problem\n",
        "# flatten miał 5x5 - można doprowadzić do za dużego zmniejszenia\n",
        "# dlatego dodaje się funkcje padding\n",
        "# np. dodanie zer, lub duplikacja pikseli zeby nie spadł do 0\n",
        "\n",
        "input_shape = X_train.shape[1:]\n",
        "num_classes = y_train.shape[1]\n",
        "\n",
        "def get_cnn_v5(input_shape, num_classes):\n",
        "  return Sequential([\n",
        "  Conv2D(filters=32, kernel_size=(3,3), activation='relu', input_shape=input_shape),\n",
        "  Conv2D(filters=32, kernel_size=(3,3), activation='relu', padding='same'),\n",
        "  MaxPool2D(),\n",
        "  Dropout(0.3),\n",
        "  \n",
        "  Conv2D(filters=64, kernel_size=(3,3), activation='relu', padding='same'),\n",
        "  Conv2D(filters=64, kernel_size=(3,3), activation='relu'),\n",
        "  MaxPool2D(),\n",
        "  Dropout(0.3),\n",
        "\n",
        "  Conv2D(filters=64, kernel_size=(3,3), activation='relu', padding='same'),\n",
        "  Conv2D(filters=64, kernel_size=(3,3), activation='relu'),\n",
        "  MaxPool2D(),\n",
        "  Dropout(0.3),\n",
        "\n",
        "  Flatten(),\n",
        "\n",
        "  Dense(1024, activation='relu'),\n",
        "  Dropout(0.3),\n",
        "\n",
        "  Dense(num_classes, activation='softmax')                    \n",
        "])\n",
        "\n",
        "train_and_predict(get_cnn_v5(input_shape, num_classes))"
      ],
      "execution_count": 0,
      "outputs": []
    },
    {
      "cell_type": "code",
      "metadata": {
        "id": "iRSzi9R0o1Q2",
        "colab_type": "code",
        "colab": {}
      },
      "source": [
        "# dodajemy blok dense - trochę gorze, może za duza siec? \n",
        "def get_cnn_v6(input_shape, num_classes):\n",
        "  return Sequential([\n",
        "  Conv2D(filters=32, kernel_size=(3,3), activation='relu', input_shape=input_shape),\n",
        "  Conv2D(filters=32, kernel_size=(3,3), activation='relu', padding='same'),\n",
        "  MaxPool2D(),\n",
        "  Dropout(0.3),\n",
        "  \n",
        "  Conv2D(filters=64, kernel_size=(3,3), activation='relu', padding='same'),\n",
        "  Conv2D(filters=64, kernel_size=(3,3), activation='relu'),\n",
        "  MaxPool2D(),\n",
        "  Dropout(0.3),\n",
        "\n",
        "  Conv2D(filters=64, kernel_size=(3,3), activation='relu', padding='same'),\n",
        "  Conv2D(filters=64, kernel_size=(3,3), activation='relu'),\n",
        "  MaxPool2D(),\n",
        "  Dropout(0.3),\n",
        "\n",
        "  Flatten(),\n",
        "\n",
        "  Dense(1024, activation='relu'),\n",
        "  Dropout(0.3),\n",
        "\n",
        "  Dense(1024, activation='relu'),\n",
        "  Dropout(0.3),\n",
        "\n",
        "  Dense(num_classes, activation='softmax')                    \n",
        "])\n",
        "\n",
        "train_and_predict(get_cnn_v6(input_shape, num_classes))"
      ],
      "execution_count": 0,
      "outputs": []
    },
    {
      "cell_type": "code",
      "metadata": {
        "id": "O76FYu9MpD1J",
        "colab_type": "code",
        "colab": {}
      },
      "source": [
        "# dodajemy blok dense - trochę gorze, może za duza siec? \n",
        "def get_cnn_v6(input_shape, num_classes):\n",
        "  return Sequential([\n",
        "  Conv2D(filters=32, kernel_size=(5,5), activation='relu', input_shape=input_shape),\n",
        "  Conv2D(filters=32, kernel_size=(5,5), activation='relu', padding='same'),\n",
        "  MaxPool2D(),\n",
        "  Dropout(0.3),\n",
        "  \n",
        "  Conv2D(filters=64, kernel_size=(3,3), activation='relu', padding='same'),\n",
        "  Conv2D(filters=64, kernel_size=(3,3), activation='relu'),\n",
        "  MaxPool2D(),\n",
        "  Dropout(0.3),\n",
        "\n",
        "  Conv2D(filters=64, kernel_size=(3,3), activation='relu', padding='same'),\n",
        "  Conv2D(filters=64, kernel_size=(3,3), activation='relu'),\n",
        "  MaxPool2D(),\n",
        "  Dropout(0.3),\n",
        "\n",
        "  Flatten(),\n",
        "\n",
        "  Dense(1024, activation='relu'),\n",
        "  Dropout(0.3),\n",
        "\n",
        "  Dense(512, activation='relu'),\n",
        "  Dropout(0.3),\n",
        "\n",
        "  Dense(num_classes, activation='softmax')                    \n",
        "])\n",
        "\n",
        "train_and_predict(get_cnn_v6(input_shape, num_classes))"
      ],
      "execution_count": 0,
      "outputs": []
    },
    {
      "cell_type": "code",
      "metadata": {
        "id": "HIlO4QXgpZrr",
        "colab_type": "code",
        "colab": {}
      },
      "source": [
        "# obrazy mają 3 kanały skali kolorów: RGB\n",
        "X_train[0].shape\n",
        "# konwertujemy do skali szarości\n",
        "print(color.rgb2gray(X_train[0]).shape)\n",
        "plt.imshow(color.rgb2gray(X_train[0]));\n",
        "# trzeba dodać skalę kolorystyczną, bo obraz ma shape 32 x 32 x 1"
      ],
      "execution_count": 0,
      "outputs": []
    },
    {
      "cell_type": "code",
      "metadata": {
        "id": "ga1tT9-Lps_g",
        "colab_type": "code",
        "colab": {}
      },
      "source": [
        "plt.imshow(color.rgb2gray(X_train[0]), cmap = plt.get_cmap('gray'));"
      ],
      "execution_count": 0,
      "outputs": []
    },
    {
      "cell_type": "code",
      "metadata": {
        "id": "YFaT1kdlqKdh",
        "colab_type": "code",
        "colab": {}
      },
      "source": [
        "# można wszystkie zrobić\n",
        "color.rgb2gray(X_train).shape"
      ],
      "execution_count": 0,
      "outputs": []
    },
    {
      "cell_type": "code",
      "metadata": {
        "id": "PJB3k0Lys3z1",
        "colab_type": "code",
        "colab": {}
      },
      "source": [
        "color.rgb2gray(X_train).reshape(-1, 32, 32, 1).shape"
      ],
      "execution_count": 0,
      "outputs": []
    },
    {
      "cell_type": "code",
      "metadata": {
        "id": "DdsFqzqIq18L",
        "colab_type": "code",
        "colab": {}
      },
      "source": [
        "X_train_gray = color.rgb2gray(X_train)\n",
        "X_test_gray = color.rgb2gray(X_test)"
      ],
      "execution_count": 0,
      "outputs": []
    },
    {
      "cell_type": "code",
      "metadata": {
        "id": "0SjZC6_3slPd",
        "colab_type": "code",
        "colab": {}
      },
      "source": [
        "# trzeba zrobić reshape, żeby pasował do struktur sieci\n",
        "# -1 to ostatnia wartość\n",
        "X_train_gray = color.rgb2gray(X_train).reshape(-1, 32, 32, 1)\n",
        "X_test_gray = color.rgb2gray(X_test).reshape(-1, 32, 32, 1)"
      ],
      "execution_count": 0,
      "outputs": []
    },
    {
      "cell_type": "code",
      "metadata": {
        "id": "2OSzSpWtq_yF",
        "colab_type": "code",
        "colab": {}
      },
      "source": [
        "input_shape2 = (32, 32, 1)\n",
        "\n",
        "model = get_cnn_v6(input_shape2, num_classes)\n",
        "model_trained = train_model_param(model, X_train_gray, y_train, params_fit={})\n",
        "predict(model_trained, X_test_gray, y_test)"
      ],
      "execution_count": 0,
      "outputs": []
    },
    {
      "cell_type": "code",
      "metadata": {
        "id": "ujMMB__Ir4pD",
        "colab_type": "code",
        "colab": {}
      },
      "source": [
        "def preproc_img(img):\n",
        "  hsv = color.rgb2hsv(img)\n",
        "  hsv[:,:,2] = exposure.equalize_adapthist(hsv[:,:,2])\n",
        "  img = color.hsv2rgb(hsv)\n",
        "\n",
        "  return img"
      ],
      "execution_count": 0,
      "outputs": []
    },
    {
      "cell_type": "code",
      "metadata": {
        "id": "oYo01Boit-n9",
        "colab_type": "code",
        "colab": {}
      },
      "source": [
        "plt.imshow(X_train[400])"
      ],
      "execution_count": 0,
      "outputs": []
    },
    {
      "cell_type": "code",
      "metadata": {
        "id": "IlLpve8VuENc",
        "colab_type": "code",
        "colab": {}
      },
      "source": [
        "plt.imshow(preproc_img(X_train[400]))"
      ],
      "execution_count": 0,
      "outputs": []
    },
    {
      "cell_type": "code",
      "metadata": {
        "id": "3c2HFkvwuG1c",
        "colab_type": "code",
        "colab": {}
      },
      "source": [
        "https://github.com/joshwadd/Deep-traffic-sign-classification"
      ],
      "execution_count": 0,
      "outputs": []
    }
  ]
}